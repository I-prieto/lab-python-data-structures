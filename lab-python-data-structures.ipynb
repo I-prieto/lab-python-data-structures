{
 "cells": [
  {
   "cell_type": "markdown",
   "metadata": {
    "tags": []
   },
   "source": [
    "# Lab | Data Structures "
   ]
  },
  {
   "cell_type": "code",
   "execution_count": null,
   "metadata": {},
   "outputs": [],
   "source": [
    "#USE THIS  Step 1: Define products\n",
    "products = [\"t-shirt\", \"mug\", \"hat\", \"book\", \"keychain\"]\n",
    "\n",
    "# Step 2: Create inventory dictionary\n",
    "inventory = {}\n",
    "\n",
    "# Step 3: Ask user for stock quantities\n",
    "for product in products:\n",
    "    inventory[product] = int(input(f\"Enter the quantity for {product}: \"))\n",
    "\n",
    "print(\"Inventory:\", inventory)\n",
    "\n",
    "# Step 4: Create customer_orders set\n",
    "customer_orders = set()\n",
    "\n",
    "# Step 5: Ask user to select 3 products\n",
    "print(\"Choose 3 products from this list:\")\n",
    "print(products)\n",
    "\n",
    "for order in range(3):\n",
    "    item = input(f\"Insert product name for order {order + 1}: \")\n",
    "    if item in products:\n",
    "        customer_orders.add(item)\n",
    "    else:\n",
    "        print(f\"Product '{item}' is not available.\")\n",
    "\n",
    "# Step 6: Print selected products\n",
    "print(\"\\nCustomer Orders:\")\n",
    "for item in customer_orders:\n",
    "    print(\"-\", item)\n",
    "\n",
    "# Step 7: Calculate order statistics\n",
    "total_products_ordered = len(customer_orders)\n",
    "percentage_ordered = (total_products_ordered / len(products)) * 100\n",
    "order_status = (total_products_ordered, percentage_ordered)\n",
    "\n",
    "# Step 8: Print order statistics\n",
    "print(\"\\nOrder Statistics:\")\n",
    "print(\"Total Products Ordered:\", order_status[0])\n",
    "print(\"Percentage of Products Ordered:\", round(order_status[1], 2), \"%\")\n",
    "\n",
    "# Step 9: Update inventory (subtract 1 from each ordered item)\n",
    "for item in customer_orders:\n",
    "    inventory[item] -= 1\n",
    "\n",
    "# Step 10: Print updated inventory\n",
    "print(\"\\nUpdated Inventory:\")\n",
    "for product in products:\n",
    "    print(f\"{product}: {inventory[product]}\")"
   ]
  },
  {
   "cell_type": "markdown",
   "metadata": {},
   "source": [
    "## Exercise: Managing Customer Orders\n",
    "\n",
    "As part of a business venture, you are starting an online store that sells various products. To ensure smooth operations, you need to develop a program that manages customer orders and inventory.\n",
    "\n",
    "Follow the steps below to complete the exercise:\n",
    "\n",
    "1. Define a list called `products` that contains the following items: \"t-shirt\", \"mug\", \"hat\", \"book\", \"keychain\".\n",
    "\n",
    "2. Create an empty dictionary called `inventory`.\n",
    "\n",
    "3. Ask the user to input the quantity of each product available in the inventory. Use the product names from the `products` list as keys in the `inventory` dictionary and assign the respective quantities as values.\n",
    "\n",
    "4. Create an empty set called `customer_orders`.\n",
    "\n",
    "5. Ask the user to input the name of three products that a customer wants to order (from those in the products list, meaning three products out of \"t-shirt\", \"mug\", \"hat\", \"book\" or \"keychain\". Add each product name to the `customer_orders` set.\n",
    "\n",
    "6. Print the products in the `customer_orders` set.\n",
    "\n",
    "7. Calculate the following order statistics:\n",
    "   - Total Products Ordered: The total number of products in the `customer_orders` set.\n",
    "   - Percentage of Products Ordered: The percentage of products ordered compared to the total available products.\n",
    "   \n",
    "   Store these statistics in a tuple called `order_status`.\n",
    "\n",
    "8. Print the order statistics using the following format:\n",
    "   ```\n",
    "   Order Statistics:\n",
    "   Total Products Ordered: <total_products_ordered>\n",
    "   Percentage of Products Ordered: <percentage_ordered>% \n",
    "   ```\n",
    "\n",
    "9. Update the inventory by subtracting 1 from the quantity of each product. Modify the `inventory` dictionary accordingly.\n",
    "\n",
    "10. Print the updated inventory, displaying the quantity of each product on separate lines.\n",
    "\n",
    "Solve the exercise by implementing the steps using the Python concepts of lists, dictionaries, sets, and basic input/output operations. "
   ]
  }
 ],
 "metadata": {
  "kernelspec": {
   "display_name": "base",
   "language": "python",
   "name": "python3"
  },
  "language_info": {
   "codemirror_mode": {
    "name": "ipython",
    "version": 3
   },
   "file_extension": ".py",
   "mimetype": "text/x-python",
   "name": "python",
   "nbconvert_exporter": "python",
   "pygments_lexer": "ipython3",
   "version": "3.13.5"
  }
 },
 "nbformat": 4,
 "nbformat_minor": 4
}
